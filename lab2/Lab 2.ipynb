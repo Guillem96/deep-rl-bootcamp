{
 "cells": [
  {
   "cell_type": "code",
   "execution_count": 1,
   "metadata": {
    "collapsed": true
   },
   "outputs": [],
   "source": [
    "\"\"\"\n",
    "This project was developed by Peter Chen, Rocky Duan, Pieter Abbeel for the Berkeley Deep RL Bootcamp, August 2017.\n",
    "Bootcamp website with slides and lecture videos: https://sites.google.com/view/deep-rl-bootcamp/.\n",
    "\n",
    "Code adapted from Stanford CS231N materials: http://cs231n.stanford.edu/\n",
    "\"\"\"\n",
    "\n",
    "\n",
    "# note to properly run this lab, you should execute all code blocks sequentially\n",
    "import chainer\n",
    "import chainer.functions as F\n",
    "import chainer.links as L\n",
    "from chainer import training\n",
    "from chainer.training import extensions\n",
    "\n",
    "from collections import namedtuple, defaultdict, deque\n",
    "\n",
    "import numpy as np\n",
    "\n",
    "%matplotlib inline\n",
    "\n",
    "import matplotlib\n",
    "import matplotlib.pyplot as plt"
   ]
  },
  {
   "cell_type": "markdown",
   "metadata": {},
   "source": [
    "## Introduction to Chainer\n",
    "\n",
    "Chainer can be understood as Numpy plus the ability to record the computation graph of numerical operations to enable Automatic Differentiation. (Chainer actually also offers many other things; for example, a Numpy equivalent library that runs on GPU, but we will ignore them for now)"
   ]
  },
  {
   "cell_type": "markdown",
   "metadata": {},
   "source": [
    "Let's illustrate how Chainer works by a simple 1D regression task.\n",
    "\n",
    "Suppose we have observations from the following model $y = w x + b + \\epsilon$ where $\\epsilon \\sim \\mathcal{N}(0, 0.1)$ and the task is to estimate the linear model parameters $w, b$ from data."
   ]
  },
  {
   "cell_type": "code",
   "execution_count": 2,
   "metadata": {},
   "outputs": [
    {
     "data": {
      "image/png": "[encoded data removed]",
      "text/plain": [
       "<matplotlib.figure.Figure at 0x7f1548003c50>"
      ]
     },
     "metadata": {
      "needs_background": "light"
     },
     "output_type": "display_data"
    }
   ],
   "source": [
    "# first generate some observations\n",
    "true_a = 1.3\n",
    "true_b = 0.4\n",
    "data_x = (np.arange(100) / 99.0 - .5).astype(np.float32) # Chainer assumes all the cpu computation is done in float32\n",
    "data_y = (data_x * true_a + true_b + np.random.randn(*data_x.shape) * 0.1).astype(np.float32)\n",
    "_ = plt.scatter(data_x, data_y, c='b')"
   ]
  },
  {
   "cell_type": "markdown",
   "metadata": {},
   "source": [
    "Chainer provides an abstraction called `Link` that describe some computation and keeps track of parameters for it. For instance, a `Linear` link describes a linear map on input and keeps track of `w` and bias `b`."
   ]
  },
  {
   "cell_type": "code",
   "execution_count": 3,
   "metadata": {},
   "outputs": [
    {
     "name": "stdout",
     "output_type": "stream",
     "text": [
      "w: variable W([[ 2.19038582]])\n",
      "b: variable b([ 0.])\n",
      "Operations on chainer.Variable: variable([[ 125.19038391]]), type: <class 'chainer.variable.Variable'>\n",
      "numpy arrays: [[ 2.19038582]] [[ 125.19038391]]\n"
     ]
    }
   ],
   "source": [
    "model = L.Linear(in_size=1, out_size=1) # input is 1D data and output is also 1D data\n",
    "\n",
    "# Chainer will randomly initialize `w` and `b` for us.\n",
    "# we can take a look at their values\n",
    "print(\"w:\", model.W)\n",
    "print(\"b:\", model.b)\n",
    "\n",
    "# model.W and model.b have type `chainer.Variable`, \n",
    "#   which is a wrapper around Numpy array\n",
    "assert isinstance(model.W, chainer.Variable)\n",
    "\n",
    "# operations that involve `chainer.Variable` will produce\n",
    "#   `chainer.Variable` and this records the computation graph\n",
    "var_result = model.W + 123 # some random computation\n",
    "print(\"Operations on chainer.Variable: %s, type: %s\" % (var_result, type(var_result)))\n",
    "\n",
    "# the underlying numpy array can be accessed by `data` attribute\n",
    "print(\"numpy arrays:\", model.W.data, var_result.data)"
   ]
  },
  {
   "cell_type": "code",
   "execution_count": 5,
   "metadata": {},
   "outputs": [
    {
     "data": {
      "image/png": "[encoded data removed]",
      "text/plain": [
       "<matplotlib.figure.Figure at 0x1123d65f8>"
      ]
     },
     "metadata": {},
     "output_type": "display_data"
    }
   ],
   "source": [
    "# A chainer link is a callable object. calling it performs the\n",
    "#   forward computation. (in this case, it performs Wx + b)\n",
    "model_y = model(data_x[:, None]) # chainer's link usually assumes input is [Batch Size, Input Dimension]\n",
    "# `model_y` is a chainer variable so we use `.data` to access its numpy array for plotting\n",
    "\n",
    "# we can plot the model's current fit in red. it should be terrible because we haven't trained it yet\n",
    "_ = plt.plot(data_x, model_y.data[:,0], c='r')\n",
    "_ = plt.scatter(data_x, data_y, c='b')\n",
    "_ = plt.title(\"Initial model\")"
   ]
  },
  {
   "cell_type": "code",
   "execution_count": 4,
   "metadata": {},
   "outputs": [
    {
     "name": "stdout",
     "output_type": "stream",
     "text": [
      "loss variable(0.24057820439338684)\n",
      "dloss/dW [[ 0.15619901]]\n"
     ]
    }
   ],
   "source": [
    "# now let's walk through how to perform forward computation\n",
    "#  and use AD to get gradients\n",
    "\n",
    "# first we clear the gradients that are stored in the model\n",
    "model.cleargrads()\n",
    "# as we have seen we can perform forward computation by calling the link\n",
    "model_y = model(data_x[:, None])\n",
    "\n",
    "# remember that `model_y` is a chainer variable. to operate on chainer variable\n",
    "#    we will use functions from chainer.functions to operate on those objects.\n",
    "loss = F.mean(F.square(model_y - data_y[:, None]))\n",
    "# `loss` is a scalar chainer variable\n",
    "assert isinstance(loss, chainer.Variable)\n",
    "print(\"loss\", loss)\n",
    "# calculating gradients d loss /d params is as simple as\n",
    "loss.backward()\n",
    "\n",
    "# we can inspect the gradient of loss with respect to W\n",
    "print(\"dloss/dW\", model.W.grad)"
   ]
  },
  {
   "cell_type": "markdown",
   "metadata": {},
   "source": [
    "Now that we know how to calculate gradients, we can code up a simple loop to perform gradient descent to train this model:\n",
    "\n",
    "(Hint: if you run into weird problems, maybe the state has been messed up and you can try re-runing all the code blocks from the beginning)"
   ]
  },
  {
   "cell_type": "code",
   "execution_count": 6,
   "metadata": {},
   "outputs": [
    {
     "name": "stdout",
     "output_type": "stream",
     "text": [
      "Itr 0 loss: variable(0.27595630288124084)\n",
      "Itr 25 loss: variable(0.05441910773515701)\n",
      "Itr 50 loss: variable(0.02825106866657734)\n",
      "Itr 75 loss: variable(0.017150746658444405)\n"
     ]
    },
    {
     "data": {
      "image/png": "[encoded data removed]",
      "text/plain": [
       "<matplotlib.figure.Figure at 0x7f1548069c18>"
      ]
     },
     "metadata": {
      "needs_background": "light"
     },
     "output_type": "display_data"
    },
    {
     "data": {
      "image/png": "[encoded data removed]",
      "text/plain": [
       "<matplotlib.figure.Figure at 0x7f15358a3d30>"
      ]
     },
     "metadata": {
      "needs_background": "light"
     },
     "output_type": "display_data"
    }
   ],
   "source": [
    "# now we can perform gradient descent to improve this model\n",
    "model = L.Linear(in_size=1, out_size=1)\n",
    "losses = []\n",
    "learning_rate = 1e-1\n",
    "\n",
    "for i in range(100):\n",
    "    model.cleargrads()\n",
    "    loss = F.mean(F.square(model(data_x[:, None]) - data_y[:, None]))\n",
    "    losses.append(float(loss.data))\n",
    "    loss.backward()\n",
    "    model.W.data[:] = model.W.data - model.W.grad * learning_rate\n",
    "    model.b.data[:] = model.b.data - model.b.grad * learning_rate\n",
    "    \n",
    "    ## *** YOUR CODE HERE TO PERFORM GRADIENT DESCENT ***\n",
    "    ## Hint: you could access gradients with model.W.grad, model.b.grad\n",
    "    ## Hint2: you could write data into a parameter with model.W.data[:] = some_numpy_array\n",
    "    ## Hint3: if your model doesn't learn, remember to try different learning rates\n",
    "    if i % 25 == 0:\n",
    "        print(\"Itr\", i, \"loss:\", loss)\n",
    "plt.plot(np.array(losses))\n",
    "plt.title(\"Learning curve\")\n",
    "plt.figure()\n",
    "plt.plot(data_x, model(data_x[:, None])[:,0].data, c='r')\n",
    "plt.scatter(data_x, data_y, c='b')\n",
    "_ = plt.title(\"Trained model fitness\")\n"
   ]
  },
  {
   "cell_type": "markdown",
   "metadata": {},
   "source": [
    "## Train your first deep model\n",
    "\n",
    "Now we have learned the basics of Chainer. We can use it to train a deep model to classify MNIST digits. We will train a model on the MNIST dataset because the dataset is small.\n",
    "\n",
    "First we load the data and see what the images look like:"
   ]
  },
  {
   "cell_type": "code",
   "execution_count": 7,
   "metadata": {
    "scrolled": false
   },
   "outputs": [
    {
     "name": "stdout",
     "output_type": "stream",
     "text": [
      "Downloading from http://yann.lecun.com/exdb/mnist/train-images-idx3-ubyte.gz...\n",
      "Downloading from http://yann.lecun.com/exdb/mnist/train-labels-idx1-ubyte.gz...\n",
      "Downloading from http://yann.lecun.com/exdb/mnist/t10k-images-idx3-ubyte.gz...\n",
      "Downloading from http://yann.lecun.com/exdb/mnist/t10k-labels-idx1-ubyte.gz...\n",
      "train[i][0] is the ith image that's flattened, and has shape: (784,)\n",
      "train[i][1] is the ith image's label, such as: 3\n"
     ]
    },
    {
     "data": {
      "image/png": "[encoded data removed]",
      "text/plain": [
       "<matplotlib.figure.Figure at 0x7f1535796d30>"
      ]
     },
     "metadata": {
      "needs_background": "light"
     },
     "output_type": "display_data"
    },
    {
     "data": {
      "image/png": "[encoded data removed]",
      "text/plain": [
       "<matplotlib.figure.Figure at 0x7f15356c1400>"
      ]
     },
     "metadata": {
      "needs_background": "light"
     },
     "output_type": "display_data"
    }
   ],
   "source": [
    "train, test = chainer.datasets.get_mnist()\n",
    "# use train[data_point_index] to access data\n",
    "print(\"train[i][0] is the ith image that's flattened, and has shape:\", train[12][0].shape)\n",
    "print(\"train[i][1] is the ith image's label, such as:\", train[12][1])\n",
    "# here we visualize two of them\n",
    "plt.imshow(train[12][0].reshape([28, 28,]))\n",
    "plt.title(\"Label: %s\" % train[12][1])\n",
    "plt.figure()\n",
    "plt.imshow(train[42][0].reshape([28, 28,]))\n",
    "_ = plt.title(\"Label: %s\" % train[42][1])"
   ]
  },
  {
   "cell_type": "markdown",
   "metadata": {},
   "source": [
    "Next we will provide some boilerplate code and train a linear classifier as an example:"
   ]
  },
  {
   "cell_type": "code",
   "execution_count": 8,
   "metadata": {},
   "outputs": [
    {
     "name": "stdout",
     "output_type": "stream",
     "text": [
      "loss: 2.25870704651; accuracy: 0.125\n",
      "loss: 0.597827752829; accuracy: 0.87\n",
      "loss: 0.431780158281; accuracy: 0.885\n",
      "loss: 0.469259694219; accuracy: 0.8975\n",
      "loss: 0.342644590139; accuracy: 0.915\n",
      "loss: 0.335354584455; accuracy: 0.91\n",
      "loss: 0.342312194109; accuracy: 0.905\n",
      "loss: 0.411966069937; accuracy: 0.8875\n",
      "loss: 0.367044795156; accuracy: 0.8975\n",
      "loss: 0.286617771685; accuracy: 0.9325\n",
      "loss: 0.239226987362; accuracy: 0.92\n",
      "loss: 0.308667329848; accuracy: 0.915\n",
      "loss: 0.272581866682; accuracy: 0.9125\n",
      "loss: 0.366484494209; accuracy: 0.875\n",
      "loss: 0.262773226202; accuracy: 0.9225\n",
      "loss: 0.271886698902; accuracy: 0.925\n",
      "loss: 0.314876336753; accuracy: 0.915\n",
      "loss: 0.24895449847; accuracy: 0.9275\n",
      "loss: 0.368792912066; accuracy: 0.905\n",
      "loss: 0.32930262506; accuracy: 0.9075\n",
      "loss: 0.321624889076; accuracy: 0.9075\n",
      "loss: 0.304050864279; accuracy: 0.9275\n",
      "loss: 0.3696487692; accuracy: 0.9075\n",
      "loss: 0.422221028209; accuracy: 0.8975\n",
      "loss: 0.280710556805; accuracy: 0.9325\n",
      "loss: 0.359297045469; accuracy: 0.915\n"
     ]
    }
   ],
   "source": [
    "def run(model, batchsize=16, num_epochs=2):\n",
    "    \n",
    "    optimizer = chainer.optimizers.Adam() # we will use chainer's Adam implementation instead of writing our own gradient based optimization\n",
    "    optimizer.setup(model)\n",
    "    \n",
    "    stats = defaultdict(lambda: deque(maxlen=25))\n",
    "    for epoch in range(num_epochs):\n",
    "        train_iter = chainer.iterators.SerialIterator(train, batchsize, repeat=False, shuffle=True)\n",
    "        test_iter = chainer.iterators.SerialIterator(test, batchsize, repeat=False, shuffle=False)\n",
    "        \n",
    "        for itr, batch in enumerate(train_iter):\n",
    "            xs = np.concatenate([datum[0][None, :] for datum in batch])\n",
    "            ys = np.array([datum[1] for datum in batch])\n",
    "\n",
    "            logits = model(xs)\n",
    "\n",
    "            loss = F.softmax_cross_entropy(logits, ys)\n",
    "            model.cleargrads()\n",
    "            loss.backward()\n",
    "            optimizer.update()\n",
    "            \n",
    "            # calculate stats\n",
    "            stats[\"loss\"].append(float(loss.data))\n",
    "            stats[\"accuracy\"].append(float((logits.data.argmax(1) == ys).sum() / batchsize))\n",
    "            if itr % 300 == 0:\n",
    "                print(\"; \".join(\"%s: %s\" % (k, np.mean(vs)) for k, vs in stats.items()))\n",
    "\n",
    "# try a simple linear model\n",
    "run(L.Linear(None, 10))"
   ]
  },
  {
   "cell_type": "markdown",
   "metadata": {},
   "source": [
    "Next we will try to improve performance by training an MLP instead. A partial implementation is provided for you to fill in:"
   ]
  },
  {
   "cell_type": "code",
   "execution_count": 11,
   "metadata": {},
   "outputs": [
    {
     "name": "stdout",
     "output_type": "stream",
     "text": [
      "loss: 2.33783555031; accuracy: 0.0625\n",
      "loss: 0.365246225893; accuracy: 0.8825\n",
      "loss: 0.290144209564; accuracy: 0.9\n",
      "loss: 0.240114565492; accuracy: 0.92\n",
      "loss: 0.204017732739; accuracy: 0.93\n",
      "loss: 0.171634858847; accuracy: 0.95\n",
      "loss: 0.202057345212; accuracy: 0.945\n",
      "loss: 0.222036421895; accuracy: 0.9375\n",
      "loss: 0.101383309364; accuracy: 0.97\n",
      "loss: 0.0901550167799; accuracy: 0.9775\n",
      "loss: 0.103589359522; accuracy: 0.975\n",
      "loss: 0.154662978053; accuracy: 0.96\n",
      "loss: 0.102761772573; accuracy: 0.97\n",
      "loss: 0.0925612124801; accuracy: 0.975\n",
      "loss: 0.100365771651; accuracy: 0.96\n",
      "loss: 0.110509148836; accuracy: 0.975\n",
      "loss: 0.102392439246; accuracy: 0.97\n",
      "loss: 0.107914230824; accuracy: 0.9725\n",
      "loss: 0.0592303973436; accuracy: 0.9825\n",
      "loss: 0.0581491962075; accuracy: 0.9825\n",
      "loss: 0.0540590551496; accuracy: 0.9875\n",
      "loss: 0.0781800982356; accuracy: 0.975\n",
      "loss: 0.0897572574019; accuracy: 0.97\n",
      "loss: 0.0841297674179; accuracy: 0.97\n",
      "loss: 0.0765185457468; accuracy: 0.975\n",
      "loss: 0.0798898217082; accuracy: 0.9725\n"
     ]
    }
   ],
   "source": [
    "class MLP(chainer.Chain):\n",
    "\n",
    "    def __init__(self, n_units, n_out):\n",
    "        super(MLP, self).__init__()\n",
    "        with self.init_scope():\n",
    "            # the size of the inputs to each layer will be inferred\n",
    "            self.l1 = L.Linear(None, n_units)  # n_in -> n_units\n",
    "            self.l2 = L.Linear(None, n_units)  # n_units -> n_units\n",
    "            self.l3 = L.Linear(None, n_out)  # n_units -> n_out\n",
    "\n",
    "    def __call__(self, x):\n",
    "        # *** YOUR CODE HERE TO BUILD AN MLP W/ self.l1, self.l2, self.l3 ***\n",
    "        # \n",
    "        # Hint: you should make use of non-linearities / activation functions\n",
    "        #     https://docs.chainer.org/en/stable/reference/functions.html#activation-functions\n",
    "        x = F.relu(self.l1(x))\n",
    "        x = F.relu(self.l2(x))\n",
    "        return self.l3(x)\n",
    "run(MLP(200, 10))"
   ]
  },
  {
   "cell_type": "markdown",
   "metadata": {},
   "source": [
    "Next you should try to implement logging test loss and see if the model is overfitting."
   ]
  },
  {
   "cell_type": "code",
   "execution_count": 16,
   "metadata": {},
   "outputs": [
    {
     "name": "stdout",
     "output_type": "stream",
     "text": [
      "loss: 2.36305427551; accuracy: 0.125; test_loss: 2.36305427551; test_accuracy: 0.1125\n",
      "loss: 0.316839565635; accuracy: 0.9025; test_loss: 0.381439805031; test_accuracy: 0.8625\n",
      "loss: 0.221308735609; accuracy: 0.945; test_loss: 0.0231885910034; test_accuracy: 0.8975\n",
      "loss: 0.188989019394; accuracy: 0.9375; test_loss: 0.249900400639; test_accuracy: 0.9075\n",
      "loss: 0.19804690063; accuracy: 0.9325; test_loss: 0.252763330936; test_accuracy: 0.9125\n",
      "loss: 0.213071400523; accuracy: 0.9425; test_loss: 0.0384782701731; test_accuracy: 0.9125\n",
      "loss: 0.181937139332; accuracy: 0.9375; test_loss: 0.0826076567173; test_accuracy: 0.91\n",
      "loss: 0.165883306265; accuracy: 0.95; test_loss: 0.0696011334658; test_accuracy: 0.925\n",
      "loss: 0.134143800735; accuracy: 0.9525; test_loss: 0.312379449606; test_accuracy: 0.9175\n",
      "loss: 0.208181480765; accuracy: 0.945; test_loss: 0.027306497097; test_accuracy: 0.925\n",
      "loss: 0.117297543585; accuracy: 0.9525; test_loss: 0.0533064380288; test_accuracy: 0.95\n",
      "loss: 0.148103865385; accuracy: 0.945; test_loss: 0.0735051780939; test_accuracy: 0.945\n",
      "loss: 0.153251613379; accuracy: 0.9525; test_loss: 0.0441425442696; test_accuracy: 0.915\n",
      "loss: 0.134675756097; accuracy: 0.965; test_loss: 0.0194174647331; test_accuracy: 0.945\n",
      "loss: 0.0815637105703; accuracy: 0.97; test_loss: 0.0100236535072; test_accuracy: 0.93\n",
      "loss: 0.0981376522779; accuracy: 0.9675; test_loss: 0.0655752271414; test_accuracy: 0.92\n",
      "loss: 0.093340074122; accuracy: 0.965; test_loss: 0.0212472975254; test_accuracy: 0.9425\n",
      "loss: 0.101822032928; accuracy: 0.9675; test_loss: 0.0646656751633; test_accuracy: 0.9325\n",
      "loss: 0.0654035627842; accuracy: 0.975; test_loss: 0.00167235732079; test_accuracy: 0.94\n",
      "loss: 0.0871285682917; accuracy: 0.9725; test_loss: 0.00999480485916; test_accuracy: 0.9425\n",
      "loss: 0.0752636367083; accuracy: 0.98; test_loss: 0.122715875506; test_accuracy: 0.925\n",
      "loss: 0.141547183394; accuracy: 0.95; test_loss: 0.486400008202; test_accuracy: 0.9375\n",
      "loss: 0.107895683646; accuracy: 0.9625; test_loss: 0.00834438204765; test_accuracy: 0.9375\n",
      "loss: 0.0963536658883; accuracy: 0.975; test_loss: 0.00143221020699; test_accuracy: 0.9475\n",
      "loss: 0.10204408288; accuracy: 0.9675; test_loss: 0.00101655721664; test_accuracy: 0.94\n",
      "loss: 0.0999322754145; accuracy: 0.975; test_loss: 0.145870745182; test_accuracy: 0.955\n"
     ]
    }
   ],
   "source": [
    "def better_run(model, batchsize=16, num_epochs=2):\n",
    "\n",
    "    optimizer = chainer.optimizers.Adam() # we will use chainer's Adam implementation instead of writing our own gradient based optimization\n",
    "    optimizer.setup(model)\n",
    "    \n",
    "    stats = defaultdict(lambda: deque(maxlen=25))\n",
    "    for epoch in range(num_epochs):\n",
    "        train_iter = chainer.iterators.SerialIterator(train, batchsize, repeat=False, shuffle=True)\n",
    "        for itr, batch in enumerate(train_iter):\n",
    "            xs = np.concatenate([datum[0][None, :] for datum in batch])\n",
    "            ys = np.array([datum[1] for datum in batch])\n",
    "\n",
    "            logits = model(xs)\n",
    "\n",
    "            loss = F.softmax_cross_entropy(logits, ys)\n",
    "            model.cleargrads()\n",
    "            loss.backward()\n",
    "            optimizer.update()\n",
    "            \n",
    "            # calculate stats\n",
    "            stats[\"loss\"].append(float(loss.data))\n",
    "            stats[\"accuracy\"].append(float((logits.data.argmax(1) == ys).sum() / batchsize))\n",
    "            if itr % 300 == 0:\n",
    "                test_iter = chainer.iterators.SerialIterator(test, batchsize, repeat=False, shuffle=False)\n",
    "\n",
    "                for itr, batch in enumerate(test_iter):\n",
    "                    xs = np.concatenate([datum[0][None, :] for datum in batch])\n",
    "                    ys = np.array([datum[1] for datum in batch])\n",
    "                    \n",
    "                    logits = model(xs)\n",
    "                    stats[\"test_loss\"].append(float(loss.data))\n",
    "                    stats[\"test_accuracy\"].append(float((logits.data.argmax(1) == ys).sum() / batchsize))\n",
    "                    \n",
    "                print(\"; \".join(\"%s: %s\" % (k, np.mean(vs)) for k, vs in stats.items()))\n",
    "\n",
    "better_run(MLP(200, 10))"
   ]
  },
  {
   "cell_type": "markdown",
   "metadata": {},
   "source": [
    "## Trying with convolutional neural networks"
   ]
  },
  {
   "cell_type": "code",
   "execution_count": 37,
   "metadata": {
    "collapsed": true
   },
   "outputs": [],
   "source": [
    "class LeNet(chainer.Chain):\n",
    "    \n",
    "    def __init__(self):\n",
    "        super(LeNet, self).__init__()\n",
    "        with self.init_scope():\n",
    "            self.c1 = L.Convolution2D(in_channels=1, \n",
    "                                      out_channels=6, \n",
    "                                      ksize=5)\n",
    "            self.c2 = L.Convolution2D(in_channels=6, out_channels=16,\n",
    "                                      ksize=5)\n",
    "            \n",
    "            self.l1 = L.Linear(4 * 4 * 16, 128)\n",
    "            self.l2 = L.Linear(128, 84)\n",
    "            self.l3 = L.Linear(84, 10)\n",
    "    \n",
    "    def __call__(self, x):\n",
    "        bs, *_ = x.shape\n",
    "        \n",
    "        x = F.relu(self.c1(x))\n",
    "        x = F.max_pooling_2d(x, 2, stride=2)\n",
    "        \n",
    "        x = F.relu(self.c2(x))\n",
    "        x = F.max_pooling_2d(x, 2, stride=2)\n",
    "\n",
    "        x = F.reshape(x, (bs, 4 * 4 * 16))\n",
    "        x = F.relu(self.l1(x))\n",
    "        x = F.relu(self.l2(x))\n",
    "        return self.l3(x)"
   ]
  },
  {
   "cell_type": "code",
   "execution_count": 40,
   "metadata": {},
   "outputs": [
    {
     "name": "stdout",
     "output_type": "stream",
     "text": [
      "loss: 2.33682656288; accuracy: 0.125; test_loss: 2.33682656288; test_accuracy: 0.105\n",
      "loss: 0.22578099072; accuracy: 0.9125; test_loss: 0.235975801945; test_accuracy: 0.8975\n",
      "loss: 0.151679059267; accuracy: 0.9675; test_loss: 0.0477035045624; test_accuracy: 0.9475\n",
      "loss: 0.119686037898; accuracy: 0.965; test_loss: 0.201937511563; test_accuracy: 0.935\n",
      "loss: 0.0903674852848; accuracy: 0.9725; test_loss: 0.0153506696224; test_accuracy: 0.96\n",
      "loss: 0.155943694115; accuracy: 0.945; test_loss: 0.0229796767235; test_accuracy: 0.955\n",
      "loss: 0.0883009380102; accuracy: 0.9675; test_loss: 0.455021262169; test_accuracy: 0.9475\n",
      "loss: 0.0815274870396; accuracy: 0.975; test_loss: 0.026254683733; test_accuracy: 0.9525\n",
      "loss: 0.0809119546413; accuracy: 0.9675; test_loss: 0.302906215191; test_accuracy: 0.9625\n",
      "loss: 0.0671912360191; accuracy: 0.975; test_loss: 0.150829732418; test_accuracy: 0.95\n",
      "loss: 0.0634852382541; accuracy: 0.98; test_loss: 0.174239933491; test_accuracy: 0.945\n",
      "loss: 0.0664297783375; accuracy: 0.9725; test_loss: 0.0488273203373; test_accuracy: 0.97\n",
      "loss: 0.0420364683867; accuracy: 0.9875; test_loss: 0.0215201377869; test_accuracy: 0.945\n",
      "loss: 0.0571903657913; accuracy: 0.9825; test_loss: 0.0531097054482; test_accuracy: 0.9625\n",
      "loss: 0.0747268676758; accuracy: 0.9825; test_loss: 0.000904738903046; test_accuracy: 0.97\n",
      "loss: 0.0640567070246; accuracy: 0.9775; test_loss: 0.00233343243599; test_accuracy: 0.965\n",
      "loss: 0.0414743947983; accuracy: 0.985; test_loss: 0.0584428906441; test_accuracy: 0.9625\n",
      "loss: 0.0482669490576; accuracy: 0.985; test_loss: 0.00855100154877; test_accuracy: 0.975\n",
      "loss: 0.0556615531445; accuracy: 0.9825; test_loss: 0.0188790857792; test_accuracy: 0.9775\n",
      "loss: 0.0779042226076; accuracy: 0.975; test_loss: 0.0112692117691; test_accuracy: 0.975\n",
      "loss: 0.0525830173492; accuracy: 0.9875; test_loss: 0.431471526623; test_accuracy: 0.9875\n",
      "loss: 0.0952335971594; accuracy: 0.9775; test_loss: 0.0293618738651; test_accuracy: 0.985\n",
      "loss: 0.0429859834909; accuracy: 0.9825; test_loss: 0.00991782546043; test_accuracy: 0.9725\n",
      "loss: 0.0422378647327; accuracy: 0.99; test_loss: 0.0128660202026; test_accuracy: 0.9875\n",
      "loss: 0.053004283905; accuracy: 0.985; test_loss: 0.357436597347; test_accuracy: 0.9825\n",
      "loss: 0.0330049401522; accuracy: 0.9925; test_loss: 0.00165513157845; test_accuracy: 0.98\n"
     ]
    }
   ],
   "source": [
    "def conv_run(model, batchsize=16, num_epochs=2):\n",
    "\n",
    "    optimizer = chainer.optimizers.Adam() # we will use chainer's Adam implementation instead of writing our own gradient based optimization\n",
    "    optimizer.setup(model)\n",
    "    \n",
    "    stats = defaultdict(lambda: deque(maxlen=25))\n",
    "    for epoch in range(num_epochs):\n",
    "        train_iter = chainer.iterators.SerialIterator(train, batchsize, repeat=False, shuffle=True)\n",
    "        for itr, batch in enumerate(train_iter):\n",
    "            xs = np.concatenate([datum[0][None, :] for datum in batch])\n",
    "            ys = np.array([datum[1] for datum in batch])\n",
    "            xs = F.reshape(xs, (batchsize, 1, 28, 28))\n",
    "            \n",
    "            logits = model(xs)\n",
    "\n",
    "            loss = F.softmax_cross_entropy(logits, ys)\n",
    "            model.cleargrads()\n",
    "            loss.backward()\n",
    "            optimizer.update()\n",
    "            \n",
    "            # calculate stats\n",
    "            stats[\"loss\"].append(float(loss.data))\n",
    "            stats[\"accuracy\"].append(float((logits.data.argmax(1) == ys).sum() / batchsize))\n",
    "            if itr % 300 == 0:\n",
    "                test_iter = chainer.iterators.SerialIterator(test, batchsize, repeat=False, shuffle=False)\n",
    "\n",
    "                for itr, batch in enumerate(test_iter):\n",
    "                    xs = np.concatenate([datum[0][None, :] for datum in batch])\n",
    "                    ys = np.array([datum[1] for datum in batch])\n",
    "                    xs = F.reshape(xs, (batchsize, 1, 28, 28))\n",
    "                    \n",
    "                    logits = model(xs)\n",
    "                    stats[\"test_loss\"].append(float(loss.data))\n",
    "                    stats[\"test_accuracy\"].append(float((logits.data.argmax(1) == ys).sum() / batchsize))\n",
    "                    \n",
    "                print(\"; \".join(\"%s: %s\" % (k, np.mean(vs)) for k, vs in stats.items()))\n",
    "conv_run(LeNet())"
   ]
  }
 ],
 "metadata": {
  "kernelspec": {
   "display_name": "Python 3",
   "language": "python",
   "name": "python3"
  },
  "language_info": {
   "codemirror_mode": {
    "name": "ipython",
    "version": 3
   },
   "file_extension": ".py",
   "mimetype": "text/x-python",
   "name": "python",
   "nbconvert_exporter": "python",
   "pygments_lexer": "ipython3",
   "version": "3.6.12"
  }
 },
 "nbformat": 4,
 "nbformat_minor": 1
}
